{
  "nbformat": 4,
  "nbformat_minor": 0,
  "metadata": {
    "colab": {
      "provenance": []
    },
    "kernelspec": {
      "name": "python3",
      "display_name": "Python 3"
    },
    "language_info": {
      "name": "python"
    }
  },
  "cells": [
    {
      "cell_type": "code",
      "source": [
        "import numpy as np\n",
        "data=[['Sunny','Hot', 'High', 'Weak', 'no'],\n",
        "        ['Sunny','Hot', 'High', 'Strong', 'no'],\n",
        "        ['Overcast','Hot', 'High', 'Weak', 'yes'],\n",
        "        ['Rain','Mild', 'High', 'Weak', 'yes'],\n",
        "        ['Rain','Cool', 'Normal', 'Weak', 'yes'],\n",
        "        ['Rain','Cool', 'Normal', 'Strong', 'no'],\n",
        "        ['Overcast','Cool', 'Normal', 'Strong', 'yes'],\n",
        "        ['Overcast','Mild', 'High', 'Weak', 'no'],\n",
        "        ['Sunny','Cool', 'Normal', 'Weak', 'yes'],\n",
        "        ['Rain','Mild', 'Normal', 'Weak', 'yes']\n",
        "        ]\n",
        "train_data = np.array(data)\n",
        "print(train_data)"
      ],
      "metadata": {
        "colab": {
          "base_uri": "https://localhost:8080/"
        },
        "id": "8CWeKwM7yBmo",
        "outputId": "6d44bb33-d38b-4e0c-86ca-ade38bb8284d"
      },
      "execution_count": 83,
      "outputs": [
        {
          "output_type": "stream",
          "name": "stdout",
          "text": [
            "[['Sunny' 'Hot' 'High' 'Weak' 'no']\n",
            " ['Sunny' 'Hot' 'High' 'Strong' 'no']\n",
            " ['Overcast' 'Hot' 'High' 'Weak' 'yes']\n",
            " ['Rain' 'Mild' 'High' 'Weak' 'yes']\n",
            " ['Rain' 'Cool' 'Normal' 'Weak' 'yes']\n",
            " ['Rain' 'Cool' 'Normal' 'Strong' 'no']\n",
            " ['Overcast' 'Cool' 'Normal' 'Strong' 'yes']\n",
            " ['Overcast' 'Mild' 'High' 'Weak' 'no']\n",
            " ['Sunny' 'Cool' 'Normal' 'Weak' 'yes']\n",
            " ['Rain' 'Mild' 'Normal' 'Weak' 'yes']]\n"
          ]
        }
      ]
    },
    {
      "cell_type": "code",
      "source": [
        "#Tính xác suất no và yes trong train_data\n",
        "def compute_prior_probablity(train_data):\n",
        "  y_unique = ['no', 'yes']\n",
        "  prior_probability = np.zeros(len(y_unique))\n",
        "  for i in range(0,len(y_unique)):\n",
        "    prior_probability[i] = len(np.where(train_data[:, -1] == y_unique[i])[0]) / len(train_data) #hàm sum tính tổng giá trị True, sau khi xét qua từng phần tử cột -1, giá trị nào bằng với y_unique[i] thì trả về True\n",
        "  return prior_probability\n",
        "prior_probablity = compute_prior_probablity(train_data)\n",
        "print('P(Play tennis  = \"no\") =',prior_probablity[0])\n",
        "print('P(Play tennis  = \"yes\") =',prior_probablity[1])"
      ],
      "metadata": {
        "colab": {
          "base_uri": "https://localhost:8080/"
        },
        "id": "_3l3P-M0yLG2",
        "outputId": "08d9dfaf-c079-45b2-b502-909891ce97e5"
      },
      "execution_count": 84,
      "outputs": [
        {
          "output_type": "stream",
          "name": "stdout",
          "text": [
            "P(Play tennis  = \"no\") = 0.4\n",
            "P(Play tennis  = \"yes\") = 0.6\n"
          ]
        }
      ]
    },
    {
      "cell_type": "code",
      "source": [
        "def compute_conditional_probability(train_data):\n",
        "  y_unique = ['no','yes']\n",
        "  conditional_probability = []\n",
        "  list_x_name = []\n",
        "  for i in range(0,train_data.shape[1] - 1): #shape trả về số cột, xét từng cột\n",
        "    x_unique = np.unique(train_data[:,i])#lấy những giá trị duy nhất của cột thứ i\n",
        "    print(\"x_unique\", x_unique)\n",
        "    list_x_name.append(x_unique) # thêm những giá trị duy nhất vào list_x_name\n",
        "\n",
        "    #Tính xác suất ở từng giá trị data\n",
        "    x_conditional_probability = np.zeros((len(y_unique), len(x_unique))) #tạo ma trận với hàng 1 là no, hàng 2 là yes, và ở mỗi cột sẽ là xs của giá trị unique\n",
        "    for j in range(0,len(y_unique)): #xét hàng no rồi yes\n",
        "      for k in range(0,len(x_unique)): #xét cột 1,2,3..cho đến hết giá trị unique\n",
        "        #Tính tổng bằng cách, tính tổnng giá trị True, tìm các giá trị mà trong đó cột i data = cột unique đang xét -> biến thành True và cột yes/no = yes/no hàng đang xét\n",
        "        #Chia cho giá trị True yes/no. Tức là filter ra yes/no và giá trị unique, tính ra xác suất\n",
        "        x_conditional_probability[j,k]= len(np.where((train_data[:,i] == x_unique[k]) & (train_data[:,4] == y_unique[j]))[0])/len(np.where(train_data[:,4] == y_unique[j])[0])\n",
        "    conditional_probability.append(x_conditional_probability)\n",
        "  return conditional_probability, list_x_name"
      ],
      "metadata": {
        "id": "fGbi3Eds3HLp"
      },
      "execution_count": 85,
      "outputs": []
    },
    {
      "cell_type": "code",
      "source": [
        "#Câu 15#4.3.1\n",
        "_, list_x_name  = compute_conditional_probability(train_data)\n",
        "print(\"x1 = \",list_x_name[0])\n",
        "print(\"x2 = \",list_x_name[1])\n",
        "print(\"x3 = \",list_x_name[2])\n",
        "print(\"x4 = \",list_x_name[3])"
      ],
      "metadata": {
        "colab": {
          "base_uri": "https://localhost:8080/"
        },
        "id": "W7Nl-pch6MoI",
        "outputId": "7705cf99-7a78-4cee-e4e8-288d1afa7401"
      },
      "execution_count": 86,
      "outputs": [
        {
          "output_type": "stream",
          "name": "stdout",
          "text": [
            "x_unique ['Overcast' 'Rain' 'Sunny']\n",
            "x_unique ['Cool' 'Hot' 'Mild']\n",
            "x_unique ['High' 'Normal']\n",
            "x_unique ['Strong' 'Weak']\n",
            "x1 =  ['Overcast' 'Rain' 'Sunny']\n",
            "x2 =  ['Cool' 'Hot' 'Mild']\n",
            "x3 =  ['High' 'Normal']\n",
            "x4 =  ['Strong' 'Weak']\n"
          ]
        }
      ]
    },
    {
      "cell_type": "code",
      "source": [
        "# Train Naive Bayes Model\n",
        "###########################\n",
        "def train_naive_bayes(train_data):\n",
        "    # Step 1: Calculate Prior Probability\n",
        "    prior_probability = compute_prior_probablity(train_data)\n",
        "\n",
        "    # Step 2: Calculate Conditional Probability\n",
        "    conditional_probability, list_x_name  = compute_conditional_probability(train_data)\n",
        "\n",
        "    return prior_probability,conditional_probability, list_x_name\n",
        "\n",
        "prior_probability,conditional_probability, list_x_name = train_naive_bayes(train_data)"
      ],
      "metadata": {
        "colab": {
          "base_uri": "https://localhost:8080/"
        },
        "id": "ioRIcxqHeRt7",
        "outputId": "4d63dadc-4e15-4118-e018-c49b4da8be96"
      },
      "execution_count": 87,
      "outputs": [
        {
          "output_type": "stream",
          "name": "stdout",
          "text": [
            "x_unique ['Overcast' 'Rain' 'Sunny']\n",
            "x_unique ['Cool' 'Hot' 'Mild']\n",
            "x_unique ['High' 'Normal']\n",
            "x_unique ['Strong' 'Weak']\n"
          ]
        }
      ]
    },
    {
      "cell_type": "code",
      "source": [
        "def get_index_from_value(feature_name, list_features):\n",
        "  return np.where(list_features == feature_name)[0][0]\n"
      ],
      "metadata": {
        "id": "kfc9PkC7md5Y"
      },
      "execution_count": 88,
      "outputs": []
    },
    {
      "cell_type": "code",
      "source": [
        "#câu 16\n",
        "_, list_x_name  = compute_conditional_probability(train_data)\n",
        "outlook = list_x_name[0]\n",
        "i1 = get_index_from_value(\"Overcast\", outlook)\n",
        "i2 = get_index_from_value(\"Rain\", outlook)\n",
        "i3 = get_index_from_value(\"Sunny\", outlook)\n",
        "\n",
        "print(i1, i2, i3)"
      ],
      "metadata": {
        "colab": {
          "base_uri": "https://localhost:8080/"
        },
        "id": "WURx4QQtnGn_",
        "outputId": "46129eb8-bfdd-4101-aca2-37ba6c887217"
      },
      "execution_count": 89,
      "outputs": [
        {
          "output_type": "stream",
          "name": "stdout",
          "text": [
            "x_unique ['Overcast' 'Rain' 'Sunny']\n",
            "x_unique ['Cool' 'Hot' 'Mild']\n",
            "x_unique ['High' 'Normal']\n",
            "x_unique ['Strong' 'Weak']\n",
            "0 1 2\n"
          ]
        }
      ]
    },
    {
      "cell_type": "code",
      "source": [
        "#câu 17\n",
        "conditional_probability, list_x_name  = compute_conditional_probability(train_data)\n",
        "# Compute P(\"Outlook\"=\"Sunny\"|Play Tennis\"=\"Yes\")\n",
        "x1=get_index_from_value(\"Sunny\",list_x_name[0])\n",
        "print(x1)\n",
        "print(\"P('Outlook'='Sunny'|Play Tennis'='Yes') = \", conditional_probability[0][1, x1])"
      ],
      "metadata": {
        "colab": {
          "base_uri": "https://localhost:8080/"
        },
        "id": "oxv_g3lYnHpz",
        "outputId": "9d807f7a-6c2c-4e90-fa31-2c795e6ce466"
      },
      "execution_count": 90,
      "outputs": [
        {
          "output_type": "stream",
          "name": "stdout",
          "text": [
            "x_unique ['Overcast' 'Rain' 'Sunny']\n",
            "x_unique ['Cool' 'Hot' 'Mild']\n",
            "x_unique ['High' 'Normal']\n",
            "x_unique ['Strong' 'Weak']\n",
            "2\n",
            "P('Outlook'='Sunny'|Play Tennis'='Yes') =  0.16666666666666666\n"
          ]
        }
      ]
    },
    {
      "cell_type": "code",
      "source": [
        "#Câu 18\n",
        "conditional_probability, list_x_name  = compute_conditional_probability(train_data)\n",
        "# Compute P(\"Outlook\"=\"Sunny\"|Play Tennis\"=\"No\")\n",
        "x1=get_index_from_value(\"Sunny\",list_x_name[0])\n",
        "print(\"P('Outlook'='Sunny'|Play Tennis'='No') = \", conditional_probability[0][0, x1])"
      ],
      "metadata": {
        "colab": {
          "base_uri": "https://localhost:8080/"
        },
        "id": "3GAct9z4q156",
        "outputId": "12f47d42-5566-4947-ec03-5ea3bf880cc1"
      },
      "execution_count": 96,
      "outputs": [
        {
          "output_type": "stream",
          "name": "stdout",
          "text": [
            "x_unique ['Overcast' 'Rain' 'Sunny']\n",
            "x_unique ['Cool' 'Hot' 'Mild']\n",
            "x_unique ['High' 'Normal']\n",
            "x_unique ['Strong' 'Weak']\n",
            "P('Outlook'='Sunny'|Play Tennis'='No') =  0.5\n"
          ]
        }
      ]
    },
    {
      "cell_type": "code",
      "source": [
        "def prediction_play_tennis(X, list_x_name, prior_probability, conditional_probability):\n",
        "\n",
        "    x1=get_index_from_value(X[0],list_x_name[0])\n",
        "    x2=get_index_from_value(X[1],list_x_name[1])\n",
        "    x3=get_index_from_value(X[2],list_x_name[2])\n",
        "    x4=get_index_from_value(X[3],list_x_name[3])\n",
        "\n",
        "    p0=prior_probability[0] \\\n",
        "    *conditional_probability[0][0,x1] \\\n",
        "    *conditional_probability[1][0,x2] \\\n",
        "    *conditional_probability[2][0,x3] \\\n",
        "    *conditional_probability[3][0,x4]\n",
        "\n",
        "    p1=prior_probability[1]\\\n",
        "    *conditional_probability[0][1,x1]\\\n",
        "    *conditional_probability[1][1,x2]\\\n",
        "    *conditional_probability[2][1,x3]\\\n",
        "    *conditional_probability[3][1,x4]\n",
        "\n",
        "    # print(p0, p1)\n",
        "\n",
        "    if p0>p1:\n",
        "        y_pred=0\n",
        "    else:\n",
        "        y_pred=1\n",
        "\n",
        "    return y_pred"
      ],
      "metadata": {
        "id": "rNvKFqPUq_Ar"
      },
      "execution_count": 97,
      "outputs": []
    },
    {
      "cell_type": "code",
      "source": [
        "X = ['Sunny','Cool', 'High', 'Strong']\n",
        "prior_probability,conditional_probability, list_x_name = train_naive_bayes(train_data)\n",
        "pred =  prediction_play_tennis(X, list_x_name, prior_probability, conditional_probability)\n",
        "\n",
        "if(pred):\n",
        "  print(\"Ad should go!\")\n",
        "else:\n",
        "  print(\"Ad should not go!\")"
      ],
      "metadata": {
        "colab": {
          "base_uri": "https://localhost:8080/"
        },
        "id": "-rosTb1grE4C",
        "outputId": "b90e9cb3-7403-4e4f-bd0a-65ee073dabf3"
      },
      "execution_count": 98,
      "outputs": [
        {
          "output_type": "stream",
          "name": "stdout",
          "text": [
            "x_unique ['Overcast' 'Rain' 'Sunny']\n",
            "x_unique ['Cool' 'Hot' 'Mild']\n",
            "x_unique ['High' 'Normal']\n",
            "x_unique ['Strong' 'Weak']\n",
            "Ad should not go!\n"
          ]
        }
      ]
    }
  ]
}